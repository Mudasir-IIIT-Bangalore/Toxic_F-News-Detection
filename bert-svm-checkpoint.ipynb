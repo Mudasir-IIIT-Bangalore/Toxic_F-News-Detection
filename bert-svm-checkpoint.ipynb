{
 "cells": [
  {
   "cell_type": "code",
   "execution_count": 1,
   "metadata": {},
   "outputs": [],
   "source": [
    "import transformers\n",
    "from transformers import BertModel, BertTokenizer, AdamW, get_linear_schedule_with_warmup\n",
    "import torch\n",
    "import numpy as np\n",
    "import pandas as pd\n",
    "#import seaborn as sns\n",
    "\n",
    "from sklearn.model_selection import train_test_split\n",
    "from sklearn.metrics import confusion_matrix, classification_report\n",
    "from collections import defaultdict\n",
    "from textwrap import wrap\n",
    "from torch import nn, optim\n",
    "from torch.utils.data import Dataset, DataLoader\n",
    "import re\n",
    "import warnings\n",
    "import math\n",
    "warnings.simplefilter(action='ignore', category=FutureWarning)"
   ]
  },
  {
   "cell_type": "code",
   "execution_count": 2,
   "metadata": {},
   "outputs": [],
   "source": [
    "dataset = pd.read_csv(\"Traningset-TFND_toxicity_features_new(label1_label2).csv\", sep='\\t',engine='python')\n",
    "dataset.Stance = pd.Categorical(pd.factorize(dataset.Stance)[0])"
   ]
  },
  {
   "cell_type": "code",
   "execution_count": 3,
   "metadata": {},
   "outputs": [],
   "source": [
    "test_dataset = pd.read_csv(\"testdata-taskA-all-annotations.txt\", sep='\\t',engine='python')\n",
    "test_dataset.Stance = pd.Categorical(pd.factorize(test_dataset.Stance)[0])"
   ]
  },
  {
   "cell_type": "code",
   "execution_count": 4,
   "metadata": {},
   "outputs": [
    {
     "data": {
      "text/plain": [
       "'train_text = []\\nfor i in range(len(dataset[\\'Tweet\\'])):\\n    train_text.append(dataset[\\'Target\\'][i] + \" \"+ dataset[\\'Tweet\\'][i])\\n'"
      ]
     },
     "execution_count": 4,
     "metadata": {},
     "output_type": "execute_result"
    }
   ],
   "source": [
    "'''train_text = []\n",
    "for i in range(len(dataset['Tweet'])):\n",
    "    train_text.append(dataset['Target'][i] + \" \"+ dataset['Tweet'][i])\n",
    "'''"
   ]
  },
  {
   "cell_type": "code",
   "execution_count": 5,
   "metadata": {},
   "outputs": [
    {
     "data": {
      "text/plain": [
       "'test_text = []\\nfor i in range(len(test_dataset[\\'Tweet\\'])):\\n    test_text.append(test_dataset[\\'Target\\'][i] + \" \"+ test_dataset[\\'Tweet\\'][i])\\n    '"
      ]
     },
     "execution_count": 5,
     "metadata": {},
     "output_type": "execute_result"
    }
   ],
   "source": [
    "'''test_text = []\n",
    "for i in range(len(test_dataset['Tweet'])):\n",
    "    test_text.append(test_dataset['Target'][i] + \" \"+ test_dataset['Tweet'][i])\n",
    "    '''"
   ]
  },
  {
   "cell_type": "code",
   "execution_count": 6,
   "metadata": {},
   "outputs": [],
   "source": [
    "PRE_TRAINED_MODEL_NAME = 'bert-base-uncased'\n",
    "tokenizer = BertTokenizer.from_pretrained(PRE_TRAINED_MODEL_NAME)\n",
    "bert_model = BertModel.from_pretrained(PRE_TRAINED_MODEL_NAME)"
   ]
  },
  {
   "cell_type": "code",
   "execution_count": 7,
   "metadata": {},
   "outputs": [],
   "source": [
    "def extract_bert_features(dataset,filename):\n",
    "    bertFile = open(filename,\"w\")\n",
    "    for i in range(len(dataset)):\n",
    "        encoding = tokenizer.encode_plus(\n",
    "          dataset[i],\n",
    "          max_length=38,\n",
    "          add_special_tokens=True, # Add '[CLS]' and '[SEP]'\n",
    "          return_token_type_ids=False,\n",
    "          pad_to_max_length=True,\n",
    "          return_attention_mask=True,\n",
    "          truncation = True,\n",
    "          return_tensors='pt',  # Return PyTorch tensors\n",
    "        )\n",
    "        #print(encoding)\n",
    "        last_hidden_state, pooled_output = bert_model(\n",
    "          input_ids=encoding['input_ids'],\n",
    "          attention_mask=encoding['attention_mask']\n",
    "        )\n",
    "        bert_rep = (pooled_output.flatten().detach().numpy())\n",
    "        #print(len(bert_rep))\n",
    "        #print(bert_rep)\n",
    "        for _ in range(len(bert_rep)-1):\n",
    "            bertFile.write(repr(bert_rep[_])+\",\")\n",
    "        bertFile.write(repr(bert_rep[767])+\"\\n\")\n",
    "    bertFile.close()"
   ]
  },
  {
   "cell_type": "code",
   "execution_count": 8,
   "metadata": {},
   "outputs": [],
   "source": [
    "extract_bert_features(dataset['Tweet'],\"bert_representation.csv\")"
   ]
  },
  {
   "cell_type": "code",
   "execution_count": 9,
   "metadata": {},
   "outputs": [],
   "source": [
    "import pandas as pd\n",
    "bert_dataset = pd.read_csv(\"bert_representation.csv\", sep=',',engine='python',header=None)"
   ]
  },
  {
   "cell_type": "code",
   "execution_count": 10,
   "metadata": {},
   "outputs": [],
   "source": [
    "extract_bert_features(test_dataset['Tweet'],\"test_bert_representation.csv\")"
   ]
  },
  {
   "cell_type": "code",
   "execution_count": 11,
   "metadata": {},
   "outputs": [],
   "source": [
    "import nltk\n",
    "#nltk.download('punkt')\n",
    "target_words = set()\n",
    "for i in range(len(dataset['Target'])):\n",
    "    nltk_tokens = nltk.word_tokenize(dataset['Target'][i].lower())\n",
    "    for tok in nltk_tokens:\n",
    "        target_words.add(tok)\n",
    "\n",
    "target_words.remove(\"a\")\n",
    "target_words.remove(\"is\")\n",
    "target_words.remove(\"of\")"
   ]
  },
  {
   "cell_type": "code",
   "execution_count": 12,
   "metadata": {},
   "outputs": [],
   "source": [
    "target2id = {w:i for i,w in enumerate(target_words)}\n",
    "def create_target_vector(dataset):\n",
    "    target_dataset = []\n",
    "    for target in dataset:\n",
    "        target_vector = np.zeros(len(target2id))\n",
    "        nltk_tokens = nltk.word_tokenize(target.lower())\n",
    "        for tok in nltk_tokens:\n",
    "            if tok in target2id:\n",
    "                target_vector[target2id[tok]]=1\n",
    "        target_dataset.append(target_vector)\n",
    "    return(target_dataset)"
   ]
  },
  {
   "cell_type": "code",
   "execution_count": 13,
   "metadata": {},
   "outputs": [],
   "source": [
    "train_target_vectors = (create_target_vector(dataset['Target']))\n",
    "test_target_vectors = (create_target_vector(test_dataset['Target']))"
   ]
  },
  {
   "cell_type": "code",
   "execution_count": 14,
   "metadata": {},
   "outputs": [],
   "source": [
    "bert_dataset = bert_dataset.to_numpy()\n"
   ]
  },
  {
   "cell_type": "code",
   "execution_count": 15,
   "metadata": {},
   "outputs": [
    {
     "name": "stdout",
     "output_type": "stream",
     "text": [
      "2814\n"
     ]
    }
   ],
   "source": [
    "print(len(bert_dataset))"
   ]
  },
  {
   "cell_type": "code",
   "execution_count": 16,
   "metadata": {},
   "outputs": [
    {
     "data": {
      "text/plain": [
       "array([ 0.00000000e+00,  0.00000000e+00,  0.00000000e+00,  1.00000000e+00,\n",
       "        0.00000000e+00,  0.00000000e+00,  0.00000000e+00,  0.00000000e+00,\n",
       "        0.00000000e+00,  0.00000000e+00,  0.00000000e+00, -8.51293100e-01,\n",
       "       -4.08812200e-01, -7.39022800e-01,  7.18513550e-01,  2.81587100e-01,\n",
       "       -1.63137660e-01,  6.71428900e-01,  1.69393780e-01, -6.17644970e-01,\n",
       "       -9.99954300e-01, -9.05816600e-03,  8.96641300e-01,  9.82476500e-01,\n",
       "        1.72505360e-01,  9.21978100e-01, -1.43205960e-01,  1.66098000e-01,\n",
       "       -4.82668940e-01,  4.14065000e-01,  1.35673850e-01,  7.17572400e-01,\n",
       "        9.99872100e-01,  3.87327550e-01,  2.59251060e-01,  5.85549500e-01,\n",
       "        9.78417340e-01, -7.00011800e-01,  8.99168300e-01,  9.64264630e-01,\n",
       "        6.60421900e-01, -4.24039800e-01,  2.41397650e-01, -9.90447300e-01,\n",
       "       -1.94162560e-01, -8.57444100e-01, -9.90361900e-01,  2.92937840e-01,\n",
       "       -7.24813500e-01,  7.80376200e-02,  1.20457254e-01, -8.59811500e-01,\n",
       "        2.23007490e-01,  9.99900100e-01, -1.34769660e-01,  3.76829800e-01,\n",
       "       -1.10497534e-01, -9.99998570e-01,  1.89311100e-01, -7.98361240e-01,\n",
       "        7.70703260e-01,  4.69525300e-01,  7.60272860e-01,  9.49473460e-02,\n",
       "        4.06563700e-01,  4.26375870e-01,  2.68284170e-01, -5.50770540e-02,\n",
       "        1.17439530e-01, -1.50248750e-01, -5.13426900e-01, -5.68810000e-01,\n",
       "        4.11309870e-01, -7.41392970e-01, -9.01460000e-01,  6.99138600e-01,\n",
       "        4.57044120e-01, -8.36082700e-02, -2.01939570e-01, -5.85791500e-02,\n",
       "       -2.63164070e-01,  7.88243650e-01,  2.72622080e-01,  1.08694060e-02,\n",
       "       -9.28648900e-01,  1.36375680e-01,  9.36132000e-02, -4.98142150e-01,\n",
       "        1.00000000e+00, -4.39299350e-01, -9.76498700e-01,  7.31001900e-01,\n",
       "        3.83141800e-01,  3.90781430e-01,  3.92822680e-01, -6.73606900e-04,\n",
       "       -1.00000000e+00,  3.69801700e-01,  9.01409000e-02, -9.87985800e-01,\n",
       "        2.11705970e-01,  3.48369840e-01, -8.19538600e-02,  3.58017830e-01,\n",
       "        4.59862470e-01, -1.24075900e-01, -4.91508300e-01, -2.51655820e-01,\n",
       "       -6.34864100e-01, -3.73451080e-01, -4.48851440e-01,  1.96401910e-01,\n",
       "       -1.88892000e-01, -2.74800180e-01, -2.96963840e-01,  2.96304300e-01,\n",
       "       -3.43663400e-01, -5.14085230e-01,  4.41017100e-01, -5.11580500e-01,\n",
       "        6.02003900e-01,  3.49338900e-01, -3.50682230e-01,  3.00552800e-01,\n",
       "       -9.51241250e-01,  5.97571200e-01, -2.40422200e-01, -9.84638150e-01,\n",
       "       -4.90232380e-01, -9.88641600e-01,  6.02761600e-01,  5.31032120e-02,\n",
       "       -2.98999130e-01,  9.45869740e-01, -2.31375620e-01,  2.32282130e-01,\n",
       "       -5.88129100e-02, -7.01505100e-01, -1.00000000e+00, -6.41843440e-01,\n",
       "       -2.12653550e-01,  1.90775400e-01, -2.25493210e-01, -9.66962640e-01,\n",
       "       -9.52945600e-01,  5.47901900e-01,  9.35984700e-01,  5.69433870e-02,\n",
       "        9.99707160e-01, -3.14537730e-01,  9.44891400e-01,  6.07666750e-02,\n",
       "       -5.22874400e-01,  2.56456300e-01, -3.64604200e-01,  7.62971600e-01,\n",
       "       -8.47742860e-02, -4.73925800e-01, -4.86360560e-02, -1.45707190e-01,\n",
       "        4.07462150e-01, -5.31080900e-01, -6.89660700e-02, -2.45124120e-01,\n",
       "       -9.21454370e-01, -3.09370800e-01,  9.49091140e-01, -1.61869180e-01,\n",
       "       -6.63786600e-01,  4.22052350e-01, -4.96442100e-02, -3.66021400e-01,\n",
       "        8.32274200e-01,  4.30234340e-01,  3.48766700e-01, -1.17669190e-01,\n",
       "        5.88030300e-01, -3.73421200e-01,  4.93747700e-01, -7.36870770e-01,\n",
       "       -1.16786830e-01,  3.32554160e-01, -2.81406160e-01, -5.20277560e-01,\n",
       "       -9.81210400e-01, -2.80641200e-01,  4.46630030e-01,  9.81802300e-01,\n",
       "        5.53753440e-01,  3.79015270e-01,  5.03838960e-01, -3.92779670e-02,\n",
       "        6.82336870e-01, -9.62152500e-01,  9.77840240e-01, -2.08843130e-01,\n",
       "        2.32123960e-01,  1.06740410e-01,  4.94223740e-01, -6.94026700e-01,\n",
       "       -1.89679440e-01,  7.52516600e-01, -6.82175760e-01, -8.19473100e-01,\n",
       "        1.09061316e-01, -4.44124220e-01, -3.60517920e-01, -5.52350460e-01,\n",
       "        3.39673040e-01, -3.75178960e-01, -3.58666180e-01, -1.23668220e-01,\n",
       "        9.21444830e-01,  8.68177950e-01,  7.35927940e-01, -1.24936930e-02,\n",
       "        5.72566570e-01, -8.54689200e-01, -4.60201770e-01,  7.97365900e-02,\n",
       "        8.62444700e-02,  2.25300600e-01,  9.91887750e-01, -5.63254000e-01,\n",
       "       -4.33016300e-03, -9.34717950e-01, -9.88642600e-01, -4.10356900e-02,\n",
       "       -8.24556200e-01,  2.64525250e-02, -6.72819550e-01,  6.19722960e-01,\n",
       "       -1.31101670e-01, -1.81705880e-02,  4.15305080e-01, -9.20640470e-01,\n",
       "       -7.12480900e-01,  1.95289180e-01, -4.43068770e-01,  4.10905360e-01,\n",
       "       -3.17550420e-01,  8.56485400e-01,  8.34193300e-01, -5.46099840e-01,\n",
       "       -9.34509700e-02,  9.33704000e-01, -6.30614600e-01, -7.50887450e-01,\n",
       "        6.40702660e-01, -2.24614930e-01,  8.17465700e-01, -5.96010740e-01,\n",
       "        9.73996500e-01,  8.34736900e-01,  7.89969900e-01, -8.95629470e-01,\n",
       "       -5.40168460e-01, -3.30998570e-01, -1.56161930e-01,  2.49806980e-02,\n",
       "       -3.60204000e-01,  5.21158600e-01,  4.25689520e-01,  3.61057340e-01,\n",
       "        8.25613560e-01, -6.70241500e-01,  9.65857300e-01, -8.54424800e-01,\n",
       "       -9.42179600e-01, -5.32494660e-01, -1.32991510e-01, -9.89084200e-01,\n",
       "        5.56937160e-01,  3.06388740e-01, -1.94383050e-01, -3.81086400e-01,\n",
       "       -4.83420800e-01, -9.58063900e-01,  7.33503800e-01, -2.83200540e-02,\n",
       "        9.11989000e-01,  9.04807900e-03, -8.53523200e-01, -3.77185520e-01,\n",
       "       -9.38978900e-01, -4.34257980e-01, -2.30812120e-01,  1.33341910e-01,\n",
       "       -1.01994910e-01, -9.46852150e-01,  4.38299500e-01,  3.80458500e-01,\n",
       "        4.94973270e-01, -3.18987460e-01,  9.93776300e-01,  9.99998700e-01,\n",
       "        9.64791800e-01,  8.37126200e-01,  8.42140600e-01, -9.99014500e-01,\n",
       "       -5.97777660e-01,  9.99987700e-01, -9.81848660e-01, -1.00000000e+00,\n",
       "       -8.81259140e-01, -4.22297780e-01,  1.05043516e-01, -1.00000000e+00,\n",
       "       -9.89788500e-02,  2.19686100e-01, -8.83252800e-01,  2.14924370e-01,\n",
       "        9.75954950e-01,  9.64238300e-01, -1.00000000e+00,  7.64267400e-01,\n",
       "        9.00865700e-01, -5.27820200e-01,  8.75563860e-01, -4.60804100e-01,\n",
       "        9.73514600e-01,  5.08437340e-02,  2.99899200e-01, -2.68996300e-01,\n",
       "        3.65387770e-01, -7.38940400e-01, -7.67774340e-01, -2.21047220e-01,\n",
       "       -3.69885440e-01,  9.92210800e-01,  5.75946870e-02, -8.46992400e-01,\n",
       "       -9.19624270e-01,  3.63504080e-01, -8.65283160e-02, -3.13563530e-01,\n",
       "       -9.63739750e-01, -1.82502170e-01,  3.61834380e-01,  6.14174840e-01,\n",
       "        2.12434960e-01,  2.68708320e-01, -5.14081200e-01,  8.94043400e-02,\n",
       "       -4.20424940e-01,  1.73317880e-01,  5.63183000e-01, -9.45423660e-01,\n",
       "       -2.39332690e-01,  6.64800000e-02, -1.46391660e-01, -2.27235350e-01,\n",
       "       -9.63785600e-01,  9.68434400e-01, -3.94070540e-01,  7.20382200e-01,\n",
       "        1.00000000e+00,  4.73317950e-01, -8.37958930e-01,  4.54007450e-01,\n",
       "        1.16493900e-01,  2.61366250e-01,  1.00000000e+00,  7.70974100e-01,\n",
       "       -9.76708650e-01, -5.52724660e-01,  4.92509900e-01, -5.25857100e-01,\n",
       "       -6.57791260e-01,  9.99057100e-01, -2.98507750e-01, -2.53841430e-01,\n",
       "        2.37049680e-01,  9.76865400e-01, -9.89662200e-01,  9.63433900e-01,\n",
       "       -8.32587060e-01, -9.66540200e-01,  9.52247860e-01,  9.38296600e-01,\n",
       "       -4.41802470e-01, -7.04178750e-01,  1.97283270e-01, -1.65787300e-01,\n",
       "        1.17656480e-01, -8.67727760e-01,  6.37303700e-01,  5.91165500e-02,\n",
       "       -8.38399900e-03,  8.28802650e-01, -2.65422340e-01, -4.72267450e-01,\n",
       "        2.86217900e-01, -2.92692900e-01, -9.82729300e-02,  8.04019700e-01,\n",
       "        5.72270000e-01, -2.45087860e-01,  6.57053700e-02, -2.35986280e-01,\n",
       "       -5.64449300e-01, -9.66550400e-01,  4.16536180e-01,  1.00000000e+00,\n",
       "       -1.21482870e-01,  4.39227800e-01, -8.11674200e-02, -1.00389830e-01,\n",
       "       -2.48460580e-01,  3.70331350e-01,  4.33087400e-01, -2.19773350e-01,\n",
       "       -8.55790800e-01,  5.94783900e-01, -8.67717400e-01, -9.88400340e-01,\n",
       "        5.37113850e-01,  1.43566760e-01, -2.10141750e-01,  9.99947400e-01,\n",
       "        3.72611640e-01,  2.03145350e-01,  2.32458280e-01,  9.57112500e-01,\n",
       "        2.26325470e-02,  4.43673070e-01,  5.04692260e-01,  9.65950370e-01,\n",
       "       -8.46949300e-02,  4.85876620e-01,  6.42673730e-01, -4.44647200e-01,\n",
       "       -3.14249250e-01, -5.57453450e-01,  6.99323040e-02, -9.34335800e-01,\n",
       "        1.12399610e-01, -9.50808050e-01,  9.42008850e-01,  8.87204100e-01,\n",
       "        3.06178100e-01,  1.55177550e-01,  5.18237400e-01,  1.00000000e+00,\n",
       "       -6.39112600e-01,  3.24729300e-01,  7.71908900e-01,  5.80818950e-01,\n",
       "       -9.98537500e-01, -7.62997270e-01, -3.39309540e-01,  1.79180770e-01,\n",
       "       -4.30158670e-01, -2.44226050e-01,  1.77169430e-01, -9.46421500e-01,\n",
       "        3.57359800e-01,  5.15828430e-01, -9.57316100e-01, -9.89289050e-01,\n",
       "       -4.56195470e-01,  5.49120800e-01, -8.50013350e-02, -9.49179650e-01,\n",
       "       -5.96849000e-01, -5.83198130e-01,  3.24478180e-01, -1.09838170e-01,\n",
       "       -9.28739370e-01,  1.14870070e-01, -1.57481580e-01,  5.45182600e-01,\n",
       "       -9.14928240e-02,  5.15904400e-01,  3.17686080e-01,  8.94970100e-01,\n",
       "       -4.62684960e-01, -1.38213740e-01, -6.16041350e-02, -6.50171940e-01,\n",
       "        5.37286640e-01, -7.35658700e-01, -7.59081960e-01, -5.38608320e-02,\n",
       "        1.00000000e+00, -4.30394920e-01,  6.01172800e-01,  7.26644640e-01,\n",
       "        5.59504200e-01, -1.27556340e-01, -1.19137260e-02,  8.39958300e-01,\n",
       "        2.73157200e-01, -1.69418890e-01, -1.15024110e-01,  5.86577700e-01,\n",
       "       -4.18850240e-01,  6.91887560e-01,  1.83407620e-01,  1.88594400e-01,\n",
       "        6.87241600e-01,  7.31935560e-01,  1.72989700e-01,  1.42204310e-01,\n",
       "       -1.05906665e-01,  9.94722370e-01, -2.21588950e-01, -2.76290600e-01,\n",
       "       -4.77761120e-01, -3.59645670e-02, -2.78973250e-01,  3.64859580e-01,\n",
       "        1.00000000e+00,  3.14025160e-01,  5.43161600e-01, -9.90617930e-01,\n",
       "       -6.64473350e-01, -7.81661870e-01,  9.99995400e-01,  8.02660100e-01,\n",
       "       -6.30402860e-01,  6.12625200e-01,  5.88685000e-01, -2.58435550e-02,\n",
       "        4.35883730e-01, -6.08127750e-02, -2.70189000e-01,  2.88252770e-01,\n",
       "       -7.83304400e-02,  9.43681000e-01, -5.06505100e-01, -9.64210200e-01,\n",
       "       -6.55521000e-01,  3.20105340e-01, -9.52377500e-01,  9.99494140e-01,\n",
       "       -5.06132960e-01, -3.02983460e-01, -3.93518980e-01, -1.14171974e-01,\n",
       "       -7.78311500e-01, -6.95331500e-02, -9.79596730e-01, -2.23129670e-01,\n",
       "        6.97459950e-02,  9.46829300e-01,  9.82438850e-02, -4.71841250e-01,\n",
       "       -8.90479400e-01,  5.90946440e-01,  2.46637120e-01, -6.85594200e-01,\n",
       "       -9.59207240e-01,  9.56953300e-01, -9.81957140e-01,  5.82613000e-01,\n",
       "        9.99999900e-01,  2.85867070e-01, -2.14866880e-01, -1.49308280e-02,\n",
       "       -2.00020730e-01,  2.41791110e-01, -4.40341900e-01,  5.01499350e-01,\n",
       "       -9.55606700e-01, -2.79521820e-01, -1.70777160e-01,  3.55000970e-01,\n",
       "       -1.71450080e-02, -7.88878740e-01,  6.82429900e-01,  2.58707050e-01,\n",
       "       -4.02401750e-01, -5.64445600e-01,  2.96141400e-02,  2.34818310e-01,\n",
       "        7.68803900e-01, -3.03542670e-01,  2.05544680e-02,  3.17708250e-02,\n",
       "        2.02864670e-02, -9.05636500e-01, -3.79029150e-01, -3.43086200e-01,\n",
       "       -9.99904330e-01,  4.47546180e-01, -1.00000000e+00,  2.72588300e-01,\n",
       "       -2.06360620e-01, -1.79929750e-01,  8.07285850e-01,  4.39556240e-01,\n",
       "        4.05499820e-01, -6.29048300e-01, -3.23440850e-01,  8.60111240e-01,\n",
       "        7.08038300e-01, -2.35168200e-01, -4.04370000e-01, -6.62987770e-01,\n",
       "        2.66049360e-01, -3.39606180e-02,  3.74424000e-01, -6.49972200e-01,\n",
       "        7.86762800e-01, -1.29086350e-01,  1.00000000e+00,  9.37671200e-03,\n",
       "       -5.44688400e-01, -9.07202100e-01,  1.83713020e-01, -2.13550870e-01,\n",
       "        9.99999340e-01, -4.51260630e-01, -9.50643660e-01,  4.25361420e-01,\n",
       "       -7.30997440e-01, -8.38770500e-01,  3.50566400e-01, -1.47919940e-01,\n",
       "       -8.55465350e-01, -8.71082000e-01,  9.47352700e-01,  4.04928700e-01,\n",
       "       -5.19865100e-01,  5.48900100e-01, -2.45524210e-01, -4.81647000e-01,\n",
       "        7.37971960e-02,  6.89117670e-01,  9.87547600e-01, -4.43948840e-02,\n",
       "        6.49633770e-01, -3.61681940e-01, -3.75038620e-01,  9.59208370e-01,\n",
       "        2.75093140e-01, -7.93052800e-02,  9.26013000e-02,  1.00000000e+00,\n",
       "        1.68639670e-01, -9.09072300e-01,  2.52903100e-01, -9.58221600e-01,\n",
       "       -9.27466900e-02, -9.45297900e-01,  2.34055790e-01,  2.12485420e-01,\n",
       "        8.99217900e-01, -1.47915080e-01,  9.46257300e-01, -5.46444000e-01,\n",
       "        4.17478640e-02, -4.86814900e-01, -2.30517000e-02,  4.61554650e-01,\n",
       "       -8.36083100e-01, -9.81803300e-01, -9.81524400e-01,  5.76417600e-01,\n",
       "       -3.71040520e-01, -5.77477650e-03,  2.26155330e-01,  4.57019500e-02,\n",
       "        2.48413230e-01,  4.16432860e-01, -1.00000000e+00,  9.11962870e-01,\n",
       "        3.64284660e-01,  5.61504500e-01,  9.58304700e-01,  5.35338300e-01,\n",
       "        5.96688570e-01,  2.72224750e-01, -9.78605600e-01, -9.22457500e-01,\n",
       "       -3.07952800e-01, -2.30812240e-01,  5.35439250e-01,  7.00711970e-01,\n",
       "        8.17967600e-01,  2.90288270e-01, -3.16984360e-01, -4.08315700e-01,\n",
       "       -1.28091020e-01, -8.02866900e-01, -9.91521240e-01,  3.58954160e-01,\n",
       "       -2.73364200e-01, -7.75287900e-01,  9.58470340e-01, -3.18832550e-01,\n",
       "       -9.74083840e-02, -6.86022100e-02, -5.73421960e-01,  8.18863100e-01,\n",
       "        7.57175800e-01,  9.72697360e-02,  3.54340970e-02,  3.31825380e-01,\n",
       "        8.62971900e-01,  8.91840930e-01,  9.87010840e-01, -6.69960560e-01,\n",
       "        5.94407000e-01, -5.08677500e-01,  3.67686000e-01,  8.26176170e-01,\n",
       "       -9.45140600e-01,  1.01871364e-01,  2.90567340e-01, -1.51748210e-01,\n",
       "        7.32718560e-02, -1.50982770e-01, -8.98833200e-01,  7.20429400e-01,\n",
       "       -3.33880570e-01,  3.03167580e-01, -3.91190020e-01,  8.99080600e-02,\n",
       "       -3.95623770e-01, -2.03025170e-02, -6.54289800e-01, -6.09107140e-01,\n",
       "        5.84441070e-01, -8.39429300e-02,  8.31778470e-01,  8.60993860e-01,\n",
       "       -2.11042460e-02, -6.29965960e-01, -1.18341500e-01, -2.23755720e-01,\n",
       "       -8.70512840e-01,  6.71616100e-01,  1.99474380e-02,  8.82246940e-02,\n",
       "        2.09681510e-01, -1.31050970e-01,  8.55535700e-01, -3.45985530e-01,\n",
       "       -3.29955900e-01, -2.65112200e-01, -5.48028400e-01,  8.38452000e-01,\n",
       "       -4.31083050e-01, -4.52535400e-01, -5.17915670e-01,  7.16863630e-01,\n",
       "        2.57479900e-01,  9.99895040e-01, -3.23732530e-01, -5.96650900e-01,\n",
       "       -3.43537000e-01, -4.07561100e-01,  2.42337140e-01, -4.15769340e-01,\n",
       "       -1.00000000e+00,  2.37308370e-01, -5.54875550e-01,  6.16078300e-01,\n",
       "       -3.33601800e-02,  4.48458640e-01, -4.31686130e-01, -9.29847400e-01,\n",
       "       -1.96838260e-01,  5.07912500e-01,  3.24103950e-01, -4.99179240e-01,\n",
       "       -5.91964300e-01,  4.17424020e-01, -5.48814830e-01,  9.19697460e-01,\n",
       "        8.25871700e-01,  3.78322900e-01,  6.20162800e-01,  5.31669800e-01,\n",
       "       -3.88021050e-01, -6.71371340e-01,  8.46203450e-01])"
      ]
     },
     "execution_count": 16,
     "metadata": {},
     "output_type": "execute_result"
    }
   ],
   "source": [
    "bert_target_train_ds  = []\n",
    "for i in range(len(dataset['Stance'])):\n",
    "    \n",
    "    bert_target_vector = (np.concatenate((np.array(train_target_vectors[i]),(bert_dataset[i])),axis=None))\n",
    "    bert_target_train_ds.append(bert_target_vector)\n",
    "bert_target_train_ds[0]"
   ]
  },
  {
   "cell_type": "code",
   "execution_count": 17,
   "metadata": {},
   "outputs": [
    {
     "data": {
      "text/plain": [
       "array([0., 0., 0., 1., 0.])"
      ]
     },
     "execution_count": 17,
     "metadata": {},
     "output_type": "execute_result"
    }
   ],
   "source": [
    "bert_target_test_ds  = []\n",
    "test_bert_dataset = pd.read_csv(\"test_bert_representation.csv\", sep=',',engine='python',header=None)\n",
    "test_bert_dataset = test_bert_dataset.to_numpy()\n",
    "for i in range(len(test_dataset['Stance'])):   \n",
    "    bert_target_vector = (np.concatenate((np.array(test_target_vectors[i]),np.array(test_bert_dataset[i])),axis=None))\n",
    "    bert_target_test_ds.append(bert_target_vector)\n",
    "bert_target_test_ds[0][0:5]"
   ]
  },
  {
   "cell_type": "code",
   "execution_count": 18,
   "metadata": {},
   "outputs": [
    {
     "data": {
      "text/plain": [
       "SVC(kernel='linear')"
      ]
     },
     "execution_count": 18,
     "metadata": {},
     "output_type": "execute_result"
    }
   ],
   "source": [
    "from sklearn import svm\n",
    "clf = svm.SVC(kernel='linear')\n",
    "clf.fit(bert_target_train_ds, dataset['Stance'])"
   ]
  },
  {
   "cell_type": "code",
   "execution_count": 19,
   "metadata": {},
   "outputs": [],
   "source": [
    "svm_pred = clf.predict(bert_target_test_ds)"
   ]
  },
  {
   "cell_type": "code",
   "execution_count": 24,
   "metadata": {},
   "outputs": [
    {
     "name": "stdout",
     "output_type": "stream",
     "text": [
      "[[566  50  99]\n",
      " [140 124  40]\n",
      " [110  20 100]]\n",
      "              precision    recall  f1-score   support\n",
      "\n",
      "           0     0.6936    0.7916    0.7394       715\n",
      "           1     0.6392    0.4079    0.4980       304\n",
      "           2     0.4184    0.4348    0.4264       230\n",
      "\n",
      "    accuracy                         0.6325      1249\n",
      "   macro avg     0.5837    0.5448    0.5546      1249\n",
      "weighted avg     0.6297    0.6325    0.6230      1249\n",
      "\n"
     ]
    }
   ],
   "source": [
    "from sklearn.metrics import classification_report, confusion_matrix\n",
    "print(confusion_matrix(test_dataset['Stance'],svm_pred))\n",
    "print(classification_report(test_dataset['Stance'],svm_pred,digits=4))"
   ]
  },
  {
   "cell_type": "code",
   "execution_count": 25,
   "metadata": {},
   "outputs": [],
   "source": [
    "params_grid = [{'kernel': ['rbf'], 'gamma': [1e-3, 1e-4],\n",
    "                     'C': [1, 10, 100, 1000]},\n",
    "                    {'kernel': ['linear'], 'C': [1, 10, 100, 1000]}]"
   ]
  },
  {
   "cell_type": "code",
   "execution_count": 26,
   "metadata": {},
   "outputs": [
    {
     "data": {
      "text/plain": [
       "GridSearchCV(cv=5, estimator=SVC(),\n",
       "             param_grid=[{'C': [1, 10, 100, 1000], 'gamma': [0.001, 0.0001],\n",
       "                          'kernel': ['rbf']},\n",
       "                         {'C': [1, 10, 100, 1000], 'kernel': ['linear']}])"
      ]
     },
     "execution_count": 26,
     "metadata": {},
     "output_type": "execute_result"
    }
   ],
   "source": [
    "from sklearn.model_selection import cross_val_score, GridSearchCV\n",
    "from sklearn.svm import SVC\n",
    "clf = GridSearchCV(SVC(), params_grid, cv=5)\n",
    "clf.fit(bert_dataset, dataset['Stance'])"
   ]
  },
  {
   "cell_type": "code",
   "execution_count": 27,
   "metadata": {},
   "outputs": [],
   "source": [
    "pred = clf.predict(test_bert_dataset)"
   ]
  },
  {
   "cell_type": "code",
   "execution_count": 28,
   "metadata": {},
   "outputs": [
    {
     "name": "stdout",
     "output_type": "stream",
     "text": [
      "              precision    recall  f1-score   support\n",
      "\n",
      "           0       0.70      0.81      0.75       715\n",
      "           1       0.69      0.37      0.48       304\n",
      "           2       0.45      0.51      0.48       230\n",
      "\n",
      "    accuracy                           0.65      1249\n",
      "   macro avg       0.62      0.56      0.57      1249\n",
      "weighted avg       0.65      0.65      0.64      1249\n",
      "\n"
     ]
    }
   ],
   "source": [
    "print(classification_report(test_dataset['Stance'],pred))"
   ]
  },
  {
   "cell_type": "code",
   "execution_count": 112,
   "metadata": {},
   "outputs": [],
   "source": [
    "from sklearn.ensemble import RandomForestClassifier"
   ]
  },
  {
   "cell_type": "code",
   "execution_count": 113,
   "metadata": {},
   "outputs": [],
   "source": [
    "clf = RandomForestClassifier().fit(bert_target_train_ds, dataset['Stance'])"
   ]
  },
  {
   "cell_type": "code",
   "execution_count": 115,
   "metadata": {},
   "outputs": [
    {
     "name": "stdout",
     "output_type": "stream",
     "text": [
      "              precision    recall  f1-score   support\n",
      "\n",
      "           0     0.6771    0.8797    0.7652       715\n",
      "           1     0.7417    0.3684    0.4923       304\n",
      "           2     0.4024    0.2957    0.3409       230\n",
      "\n",
      "    accuracy                         0.6477      1249\n",
      "   macro avg     0.6071    0.5146    0.5328      1249\n",
      "weighted avg     0.6422    0.6477    0.6206      1249\n",
      "\n"
     ]
    }
   ],
   "source": [
    "rf_pred = clf.predict(bert_target_test_ds)\n",
    "print(classification_report(test_dataset['Stance'],rf_pred,digits=4))"
   ]
  },
  {
   "cell_type": "code",
   "execution_count": 41,
   "metadata": {},
   "outputs": [
    {
     "name": "stdout",
     "output_type": "stream",
     "text": [
      "0\n",
      "0\n"
     ]
    }
   ],
   "source": [
    "print(svm_pred[0])\n",
    "print(rf_pred[0])"
   ]
  },
  {
   "cell_type": "code",
   "execution_count": 42,
   "metadata": {},
   "outputs": [],
   "source": [
    "nn_pred = pd.read_csv(\"bert-NN.csv\", engine='python',header=None)\n",
    "cnn_pred = pd.read_csv(\"bert-CNN.csv\", engine='python',header=None)"
   ]
  },
  {
   "cell_type": "code",
   "execution_count": 45,
   "metadata": {},
   "outputs": [
    {
     "data": {
      "text/plain": [
       "0"
      ]
     },
     "execution_count": 45,
     "metadata": {},
     "output_type": "execute_result"
    }
   ],
   "source": [
    "nn_pred[0][0]\n",
    "cnn_pred[0][0]"
   ]
  },
  {
   "cell_type": "code",
   "execution_count": 52,
   "metadata": {},
   "outputs": [],
   "source": [
    "mv_pred = []\n",
    "for i in range(len(rf_pred)):\n",
    "    voting = [0,0,0]\n",
    "    voting[svm_pred[i]] = 1+voting[svm_pred[i]]\n",
    "    voting[rf_pred[i]] = 1+voting[rf_pred[i]]\n",
    "    voting[nn_pred[0][i]] = 1+voting[nn_pred[0][i]]\n",
    "    voting[cnn_pred[0][i]] = 1+voting[cnn_pred[0][i]]\n",
    "       \n",
    "    mv_pred.append(voting.index(max(voting)))"
   ]
  },
  {
   "cell_type": "code",
   "execution_count": 53,
   "metadata": {},
   "outputs": [
    {
     "name": "stdout",
     "output_type": "stream",
     "text": [
      "              precision    recall  f1-score   support\n",
      "\n",
      "           0       0.70      0.90      0.79       715\n",
      "           1       0.69      0.47      0.56       304\n",
      "           2       0.68      0.36      0.47       230\n",
      "\n",
      "    accuracy                           0.69      1249\n",
      "   macro avg       0.69      0.58      0.60      1249\n",
      "weighted avg       0.69      0.69      0.67      1249\n",
      "\n"
     ]
    }
   ],
   "source": [
    "print(classification_report(test_dataset['Stance'],mv_pred))"
   ]
  },
  {
   "cell_type": "code",
   "execution_count": null,
   "metadata": {},
   "outputs": [],
   "source": []
  }
 ],
 "metadata": {
  "kernelspec": {
   "display_name": "Python 3",
   "language": "python",
   "name": "python3"
  },
  "language_info": {
   "codemirror_mode": {
    "name": "ipython",
    "version": 3
   },
   "file_extension": ".py",
   "mimetype": "text/x-python",
   "name": "python",
   "nbconvert_exporter": "python",
   "pygments_lexer": "ipython3",
   "version": "3.6.4"
  }
 },
 "nbformat": 4,
 "nbformat_minor": 4
}
